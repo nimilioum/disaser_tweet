{
 "metadata": {
  "kernelspec": {
   "language": "python",
   "display_name": "Python 3",
   "name": "python3"
  },
  "language_info": {
   "name": "python",
   "version": "3.10.12",
   "mimetype": "text/x-python",
   "codemirror_mode": {
    "name": "ipython",
    "version": 3
   },
   "pygments_lexer": "ipython3",
   "nbconvert_exporter": "python",
   "file_extension": ".py"
  }
 },
 "nbformat_minor": 4,
 "nbformat": 4,
 "cells": [
  {
   "cell_type": "code",
   "source": [
    "!pip install transformers"
   ],
   "metadata": {
    "_uuid": "8f2839f25d086af736a60e9eeb907d3b93b6e0e5",
    "_cell_guid": "b1076dfc-b9ad-4769-8c92-a6c4dae69d19",
    "execution": {
     "iopub.status.busy": "2023-10-09T14:00:37.802150Z",
     "iopub.execute_input": "2023-10-09T14:00:37.802457Z",
     "iopub.status.idle": "2023-10-09T14:00:47.735448Z",
     "shell.execute_reply.started": "2023-10-09T14:00:37.802432Z",
     "shell.execute_reply": "2023-10-09T14:00:47.734297Z"
    },
    "trusted": true,
    "pycharm": {
     "name": "#%%\n"
    }
   },
   "execution_count": 35,
   "outputs": [
    {
     "name": "stdout",
     "text": "Requirement already satisfied: transformers in /opt/conda/lib/python3.10/site-packages (4.33.0)\nRequirement already satisfied: filelock in /opt/conda/lib/python3.10/site-packages (from transformers) (3.12.2)\nRequirement already satisfied: huggingface-hub<1.0,>=0.15.1 in /opt/conda/lib/python3.10/site-packages (from transformers) (0.16.4)\nRequirement already satisfied: numpy>=1.17 in /opt/conda/lib/python3.10/site-packages (from transformers) (1.23.5)\nRequirement already satisfied: packaging>=20.0 in /opt/conda/lib/python3.10/site-packages (from transformers) (21.3)\nRequirement already satisfied: pyyaml>=5.1 in /opt/conda/lib/python3.10/site-packages (from transformers) (6.0)\nRequirement already satisfied: regex!=2019.12.17 in /opt/conda/lib/python3.10/site-packages (from transformers) (2023.6.3)\nRequirement already satisfied: requests in /opt/conda/lib/python3.10/site-packages (from transformers) (2.31.0)\nRequirement already satisfied: tokenizers!=0.11.3,<0.14,>=0.11.1 in /opt/conda/lib/python3.10/site-packages (from transformers) (0.13.3)\nRequirement already satisfied: safetensors>=0.3.1 in /opt/conda/lib/python3.10/site-packages (from transformers) (0.3.3)\nRequirement already satisfied: tqdm>=4.27 in /opt/conda/lib/python3.10/site-packages (from transformers) (4.66.1)\nRequirement already satisfied: fsspec in /opt/conda/lib/python3.10/site-packages (from huggingface-hub<1.0,>=0.15.1->transformers) (2023.9.0)\nRequirement already satisfied: typing-extensions>=3.7.4.3 in /opt/conda/lib/python3.10/site-packages (from huggingface-hub<1.0,>=0.15.1->transformers) (4.6.3)\nRequirement already satisfied: pyparsing!=3.0.5,>=2.0.2 in /opt/conda/lib/python3.10/site-packages (from packaging>=20.0->transformers) (3.0.9)\nRequirement already satisfied: charset-normalizer<4,>=2 in /opt/conda/lib/python3.10/site-packages (from requests->transformers) (3.1.0)\nRequirement already satisfied: idna<4,>=2.5 in /opt/conda/lib/python3.10/site-packages (from requests->transformers) (3.4)\nRequirement already satisfied: urllib3<3,>=1.21.1 in /opt/conda/lib/python3.10/site-packages (from requests->transformers) (1.26.15)\nRequirement already satisfied: certifi>=2017.4.17 in /opt/conda/lib/python3.10/site-packages (from requests->transformers) (2023.7.22)\n",
     "output_type": "stream"
    }
   ]
  },
  {
   "cell_type": "code",
   "source": [
    "import re\n",
    "import torch\n",
    "from torch import nn\n",
    "from transformers import BertTokenizer, BertForSequenceClassification, get_linear_schedule_with_warmup\n",
    "from transformers import AdamW\n",
    "from torch.utils.data import TensorDataset, DataLoader, random_split\n",
    "from torch.utils.data import RandomSampler, SequentialSampler\n",
    "from sklearn.metrics import accuracy_score\n",
    "import pandas as pd\n",
    "from matplotlib import pyplot as plt\n",
    "from nltk.tokenize import WordPunctTokenizer\n",
    "import re\n",
    "from bs4 import BeautifulSoup\n",
    "import itertools"
   ],
   "metadata": {
    "execution": {
     "iopub.status.busy": "2023-10-13T09:16:14.951866Z",
     "iopub.execute_input": "2023-10-13T09:16:14.952202Z",
     "iopub.status.idle": "2023-10-13T09:16:14.957911Z",
     "shell.execute_reply.started": "2023-10-13T09:16:14.952177Z",
     "shell.execute_reply": "2023-10-13T09:16:14.957067Z"
    },
    "trusted": true,
    "pycharm": {
     "name": "#%%\n"
    }
   },
   "execution_count": 15,
   "outputs": []
  },
  {
   "cell_type": "code",
   "source": [
    "# If there's a GPU available...\n",
    "if torch.cuda.is_available():    \n",
    "\n",
    "    # Tell PyTorch to use the GPU.    \n",
    "    device = torch.device(\"cuda\")\n",
    "\n",
    "    print('There are %d GPU(s) available.' % torch.cuda.device_count())\n",
    "\n",
    "    print('We will use the GPU:', torch.cuda.get_device_name(0))\n",
    "\n",
    "# If not...\n",
    "else:\n",
    "    print('No GPU available, using the CPU instead.')\n",
    "    device = torch.device(\"cpu\")"
   ],
   "metadata": {
    "execution": {
     "iopub.status.busy": "2023-10-13T09:16:17.237138Z",
     "iopub.execute_input": "2023-10-13T09:16:17.237778Z",
     "iopub.status.idle": "2023-10-13T09:16:17.243552Z",
     "shell.execute_reply.started": "2023-10-13T09:16:17.237750Z",
     "shell.execute_reply": "2023-10-13T09:16:17.242568Z"
    },
    "trusted": true,
    "pycharm": {
     "name": "#%%\n"
    }
   },
   "execution_count": 16,
   "outputs": [
    {
     "name": "stdout",
     "text": "There are 2 GPU(s) available.\nWe will use the GPU: Tesla T4\n",
     "output_type": "stream"
    }
   ]
  },
  {
   "cell_type": "code",
   "source": [
    "MAX_LENGTH = 100\n",
    "MODEL = 'bert-base-uncased'\n",
    "TRAIN_TEST_SPLIT = 0.75\n",
    "BATCH_SIZE = 32\n",
    "LEARNING_RATE = 3e-5\n",
    "EPOCHS = 2"
   ],
   "metadata": {
    "execution": {
     "iopub.status.busy": "2023-10-13T09:21:15.130756Z",
     "iopub.execute_input": "2023-10-13T09:21:15.131257Z",
     "iopub.status.idle": "2023-10-13T09:21:15.135448Z",
     "shell.execute_reply.started": "2023-10-13T09:21:15.131226Z",
     "shell.execute_reply": "2023-10-13T09:21:15.134541Z"
    },
    "trusted": true,
    "pycharm": {
     "name": "#%%\n"
    }
   },
   "execution_count": 28,
   "outputs": []
  },
  {
   "cell_type": "code",
   "source": [
    "def tweet_cleaner(text):\n",
    "    emoji_pattern = re.compile(\"[\"\n",
    "                               u\"\\U0001F600-\\U0001F64F\"  # emoticons\n",
    "                               u\"\\U0001F300-\\U0001F5FF\"  # symbols & pictographs\n",
    "                               u\"\\U0001F680-\\U0001F6FF\"  # transport & map symbols\n",
    "                               u\"\\U0001F1E0-\\U0001F1FF\"  # flags (iOS)\n",
    "                               u\"\\U00002702-\\U000027B0\"\n",
    "                               u\"\\U000024C2-\\U0001F251\"\n",
    "                               \"]+\", flags=re.UNICODE)\n",
    "\n",
    "    tok = WordPunctTokenizer()\n",
    "    pat1 = r'@[A-Za-z0-9]+'\n",
    "    pat2 = r'https?://[A-Za-z0-9./]+'\n",
    "\n",
    "    try:\n",
    "        text = text.decode(\"utf-8-sig\").replace(u\"\\ufffd\",\n",
    "                                                 \"?\")\n",
    "    except:\n",
    "        text = text\n",
    "\n",
    "    # replace consecutive non-ASCII characters with a space\n",
    "    text = re.sub(r'[^\\x00-\\x7F]+', ' ', text)\n",
    "\n",
    "    # remove emojis from tweet\n",
    "    text = emoji_pattern.sub(r'', text)\n",
    "\n",
    "    # HTML encoding\n",
    "    text = BeautifulSoup(text,\n",
    "                         'lxml')\n",
    "    text = text.get_text()\n",
    "\n",
    "    # removing @ mentions\n",
    "    text = re.sub(pat1, '', text)\n",
    "\n",
    "    # Removing URLs\n",
    "    text = re.sub(pat2, '', text)\n",
    "\n",
    "    # Fix misspelled words\n",
    "    text = ''.join(''.join(s)[:2] for _, s in itertools.groupby(\n",
    "        text))  # checking that each character should occur not more than 2 times in every word\n",
    "\n",
    "    # Tokenizing ,change cases & join together to remove unneccessary white spaces\n",
    "    text_list = tok.tokenize(text.lower())\n",
    "    text = (\" \".join(text_list)).strip()\n",
    "\n",
    "    return text"
   ],
   "metadata": {
    "execution": {
     "iopub.status.busy": "2023-10-13T09:16:26.130480Z",
     "iopub.execute_input": "2023-10-13T09:16:26.131302Z",
     "iopub.status.idle": "2023-10-13T09:16:26.138438Z",
     "shell.execute_reply.started": "2023-10-13T09:16:26.131273Z",
     "shell.execute_reply": "2023-10-13T09:16:26.137445Z"
    },
    "trusted": true,
    "pycharm": {
     "name": "#%%\n"
    }
   },
   "execution_count": 18,
   "outputs": []
  },
  {
   "cell_type": "code",
   "source": [
    "def get_data():\n",
    "    train_df = pd.read_csv('/kaggle/input/nlp-getting-started/train.csv')\n",
    "    test_df = pd.read_csv('/kaggle/input/nlp-getting-started/test.csv')\n",
    "\n",
    "    train_df.drop('keyword', inplace=True, axis=1)\n",
    "    train_df.drop('location', inplace=True, axis=1)\n",
    "\n",
    "    test_df.drop('keyword', inplace=True, axis=1)\n",
    "    test_df.drop('location', inplace=True, axis=1)\n",
    "\n",
    "    train_df['text_cleaned'] = list(map(lambda x: tweet_cleaner(x), train_df['text']))\n",
    "    test_df['text_cleaned'] = list(map(lambda x: tweet_cleaner(x), test_df['text']))\n",
    "\n",
    "    return train_df, test_df"
   ],
   "metadata": {
    "execution": {
     "iopub.status.busy": "2023-10-13T09:18:20.125674Z",
     "iopub.execute_input": "2023-10-13T09:18:20.126006Z",
     "iopub.status.idle": "2023-10-13T09:18:20.131918Z",
     "shell.execute_reply.started": "2023-10-13T09:18:20.125979Z",
     "shell.execute_reply": "2023-10-13T09:18:20.130960Z"
    },
    "trusted": true,
    "pycharm": {
     "name": "#%%\n"
    }
   },
   "execution_count": 24,
   "outputs": []
  },
  {
   "cell_type": "code",
   "source": [
    "def tokenize(tokenizer, data):\n",
    "    input_ids = []\n",
    "    attention_masks = []\n",
    "\n",
    "    for sentence in data:\n",
    "        encoded_dict = tokenizer.encode_plus(\n",
    "            sentence,  # Sentence to encode.\n",
    "            add_special_tokens=True,\n",
    "            padding=\"max_length\",\n",
    "            max_length=MAX_LENGTH,  # Pad & truncate all sentences.\n",
    "            truncation=True,\n",
    "            return_attention_mask=True,  # Construct attn. masks.\n",
    "            return_tensors='pt',  # Return pytorch tensors.\n",
    "        )\n",
    "\n",
    "        input_ids.append(encoded_dict['input_ids'])\n",
    "        attention_masks.append(encoded_dict['attention_mask'])\n",
    "\n",
    "    return input_ids, attention_masks"
   ],
   "metadata": {
    "execution": {
     "iopub.status.busy": "2023-10-13T09:16:44.698277Z",
     "iopub.execute_input": "2023-10-13T09:16:44.698605Z",
     "iopub.status.idle": "2023-10-13T09:16:44.704573Z",
     "shell.execute_reply.started": "2023-10-13T09:16:44.698578Z",
     "shell.execute_reply": "2023-10-13T09:16:44.703499Z"
    },
    "trusted": true,
    "pycharm": {
     "name": "#%%\n"
    }
   },
   "execution_count": 20,
   "outputs": []
  },
  {
   "cell_type": "code",
   "source": [
    "tokenizer = BertTokenizer.from_pretrained(MODEL)"
   ],
   "metadata": {
    "execution": {
     "iopub.status.busy": "2023-10-13T09:17:06.565875Z",
     "iopub.execute_input": "2023-10-13T09:17:06.566220Z",
     "iopub.status.idle": "2023-10-13T09:17:07.246617Z",
     "shell.execute_reply.started": "2023-10-13T09:17:06.566191Z",
     "shell.execute_reply": "2023-10-13T09:17:07.245759Z"
    },
    "trusted": true,
    "pycharm": {
     "name": "#%%\n"
    }
   },
   "execution_count": 21,
   "outputs": [
    {
     "output_type": "display_data",
     "data": {
      "text/plain": "Downloading (…)solve/main/vocab.txt:   0%|          | 0.00/232k [00:00<?, ?B/s]",
      "application/vnd.jupyter.widget-view+json": {
       "version_major": 2,
       "version_minor": 0,
       "model_id": "fc529d04301343ce82b521cf93577d4f"
      }
     },
     "metadata": {}
    },
    {
     "output_type": "display_data",
     "data": {
      "text/plain": "Downloading (…)okenizer_config.json:   0%|          | 0.00/28.0 [00:00<?, ?B/s]",
      "application/vnd.jupyter.widget-view+json": {
       "version_major": 2,
       "version_minor": 0,
       "model_id": "7f79e19c573b49c0bcde9346380071d3"
      }
     },
     "metadata": {}
    },
    {
     "output_type": "display_data",
     "data": {
      "text/plain": "Downloading (…)lve/main/config.json:   0%|          | 0.00/570 [00:00<?, ?B/s]",
      "application/vnd.jupyter.widget-view+json": {
       "version_major": 2,
       "version_minor": 0,
       "model_id": "d4cceb9c97974f99904f76cb026acf86"
      }
     },
     "metadata": {}
    }
   ]
  },
  {
   "cell_type": "code",
   "source": [
    "model = BertForSequenceClassification.from_pretrained(MODEL, num_labels=2,\n",
    "                                                      output_attentions=False, output_hidden_states=False)\n",
    "model.cuda()"
   ],
   "metadata": {
    "execution": {
     "iopub.status.busy": "2023-10-13T09:17:10.413660Z",
     "iopub.execute_input": "2023-10-13T09:17:10.414020Z",
     "iopub.status.idle": "2023-10-13T09:17:14.210678Z",
     "shell.execute_reply.started": "2023-10-13T09:17:10.413991Z",
     "shell.execute_reply": "2023-10-13T09:17:14.209624Z"
    },
    "trusted": true,
    "pycharm": {
     "name": "#%%\n"
    }
   },
   "execution_count": 22,
   "outputs": [
    {
     "output_type": "display_data",
     "data": {
      "text/plain": "Downloading model.safetensors:   0%|          | 0.00/440M [00:00<?, ?B/s]",
      "application/vnd.jupyter.widget-view+json": {
       "version_major": 2,
       "version_minor": 0,
       "model_id": "e21863e44cf04fb3a207eeddb3ac16f0"
      }
     },
     "metadata": {}
    },
    {
     "name": "stderr",
     "text": "Some weights of BertForSequenceClassification were not initialized from the model checkpoint at bert-base-uncased and are newly initialized: ['classifier.bias', 'classifier.weight']\nYou should probably TRAIN this model on a down-stream task to be able to use it for predictions and inference.\n",
     "output_type": "stream"
    },
    {
     "execution_count": 22,
     "output_type": "execute_result",
     "data": {
      "text/plain": "BertForSequenceClassification(\n  (bert): BertModel(\n    (embeddings): BertEmbeddings(\n      (word_embeddings): Embedding(30522, 768, padding_idx=0)\n      (position_embeddings): Embedding(512, 768)\n      (token_type_embeddings): Embedding(2, 768)\n      (LayerNorm): LayerNorm((768,), eps=1e-12, elementwise_affine=True)\n      (dropout): Dropout(p=0.1, inplace=False)\n    )\n    (encoder): BertEncoder(\n      (layer): ModuleList(\n        (0-11): 12 x BertLayer(\n          (attention): BertAttention(\n            (self): BertSelfAttention(\n              (query): Linear(in_features=768, out_features=768, bias=True)\n              (key): Linear(in_features=768, out_features=768, bias=True)\n              (value): Linear(in_features=768, out_features=768, bias=True)\n              (dropout): Dropout(p=0.1, inplace=False)\n            )\n            (output): BertSelfOutput(\n              (dense): Linear(in_features=768, out_features=768, bias=True)\n              (LayerNorm): LayerNorm((768,), eps=1e-12, elementwise_affine=True)\n              (dropout): Dropout(p=0.1, inplace=False)\n            )\n          )\n          (intermediate): BertIntermediate(\n            (dense): Linear(in_features=768, out_features=3072, bias=True)\n            (intermediate_act_fn): GELUActivation()\n          )\n          (output): BertOutput(\n            (dense): Linear(in_features=3072, out_features=768, bias=True)\n            (LayerNorm): LayerNorm((768,), eps=1e-12, elementwise_affine=True)\n            (dropout): Dropout(p=0.1, inplace=False)\n          )\n        )\n      )\n    )\n    (pooler): BertPooler(\n      (dense): Linear(in_features=768, out_features=768, bias=True)\n      (activation): Tanh()\n    )\n  )\n  (dropout): Dropout(p=0.1, inplace=False)\n  (classifier): Linear(in_features=768, out_features=2, bias=True)\n)"
     },
     "metadata": {}
    }
   ]
  },
  {
   "cell_type": "code",
   "source": [
    "train_df, test_df = get_data()\n",
    "\n",
    "train_data = train_df['text_cleaned'].values\n",
    "train_labels = torch.tensor(train_df['target'].values).to(device)"
   ],
   "metadata": {
    "execution": {
     "iopub.status.busy": "2023-10-13T09:18:25.030492Z",
     "iopub.execute_input": "2023-10-13T09:18:25.030816Z",
     "iopub.status.idle": "2023-10-13T09:18:27.269647Z",
     "shell.execute_reply.started": "2023-10-13T09:18:25.030792Z",
     "shell.execute_reply": "2023-10-13T09:18:27.268718Z"
    },
    "trusted": true,
    "pycharm": {
     "name": "#%%\n"
    }
   },
   "execution_count": 25,
   "outputs": [
    {
     "name": "stderr",
     "text": "/tmp/ipykernel_28/4057645839.py:28: MarkupResemblesLocatorWarning: The input looks more like a filename than markup. You may want to open this file and pass the filehandle into Beautiful Soup.\n  text = BeautifulSoup(text,\n/tmp/ipykernel_28/4057645839.py:28: MarkupResemblesLocatorWarning: The input looks more like a filename than markup. You may want to open this file and pass the filehandle into Beautiful Soup.\n  text = BeautifulSoup(text,\n",
     "output_type": "stream"
    }
   ]
  },
  {
   "cell_type": "code",
   "source": [
    "input_ids, attention_masks = tokenize(tokenizer, train_data)\n",
    "input_ids = torch.cat(input_ids, dim=0).to(device)\n",
    "attention_masks = torch.cat(attention_masks, dim=0).to(device)"
   ],
   "metadata": {
    "execution": {
     "iopub.status.busy": "2023-10-13T09:21:27.154949Z",
     "iopub.execute_input": "2023-10-13T09:21:27.155623Z",
     "iopub.status.idle": "2023-10-13T09:21:30.890034Z",
     "shell.execute_reply.started": "2023-10-13T09:21:27.155592Z",
     "shell.execute_reply": "2023-10-13T09:21:30.889102Z"
    },
    "trusted": true,
    "pycharm": {
     "name": "#%%\n"
    }
   },
   "execution_count": 29,
   "outputs": []
  },
  {
   "cell_type": "code",
   "source": [
    "dataset = TensorDataset(input_ids, attention_masks, train_labels)\n",
    "train_set, validation_set = random_split(dataset, [TRAIN_TEST_SPLIT, 1 - TRAIN_TEST_SPLIT])\n",
    "\n",
    "train_dataloader = DataLoader(\n",
    "    train_set,\n",
    "    sampler=RandomSampler(train_set),\n",
    "    batch_size=BATCH_SIZE)\n",
    "\n",
    "validation_dataloader = DataLoader(\n",
    "    validation_set,\n",
    "    sampler=SequentialSampler(validation_set),\n",
    "    batch_size=BATCH_SIZE)"
   ],
   "metadata": {
    "execution": {
     "iopub.status.busy": "2023-10-13T09:21:33.136792Z",
     "iopub.execute_input": "2023-10-13T09:21:33.137168Z",
     "iopub.status.idle": "2023-10-13T09:21:33.143718Z",
     "shell.execute_reply.started": "2023-10-13T09:21:33.137139Z",
     "shell.execute_reply": "2023-10-13T09:21:33.142830Z"
    },
    "trusted": true,
    "pycharm": {
     "name": "#%%\n"
    }
   },
   "execution_count": 30,
   "outputs": []
  },
  {
   "cell_type": "code",
   "source": [
    "len(train_dataloader)"
   ],
   "metadata": {
    "execution": {
     "iopub.status.busy": "2023-10-13T09:21:36.039223Z",
     "iopub.execute_input": "2023-10-13T09:21:36.039936Z",
     "iopub.status.idle": "2023-10-13T09:21:36.046480Z",
     "shell.execute_reply.started": "2023-10-13T09:21:36.039899Z",
     "shell.execute_reply": "2023-10-13T09:21:36.045543Z"
    },
    "trusted": true,
    "pycharm": {
     "name": "#%%\n"
    }
   },
   "execution_count": 31,
   "outputs": [
    {
     "execution_count": 31,
     "output_type": "execute_result",
     "data": {
      "text/plain": "179"
     },
     "metadata": {}
    }
   ]
  },
  {
   "cell_type": "code",
   "source": [
    "loss_fn = nn.CrossEntropyLoss()\n",
    "\n",
    "optimizer = AdamW(model.parameters(),\n",
    "                  lr=LEARNING_RATE,\n",
    "                  eps=1e-8)\n",
    "\n",
    "# scheduler = get_linear_schedule_with_warmup(optimizer,\n",
    "#                                             num_training_steps=len(train_dataloader) * EPOCHS,\n",
    "#                                             num_warmup_steps=0)"
   ],
   "metadata": {
    "execution": {
     "iopub.status.busy": "2023-10-13T09:21:43.116574Z",
     "iopub.execute_input": "2023-10-13T09:21:43.117274Z",
     "iopub.status.idle": "2023-10-13T09:21:43.130546Z",
     "shell.execute_reply.started": "2023-10-13T09:21:43.117236Z",
     "shell.execute_reply": "2023-10-13T09:21:43.129726Z"
    },
    "trusted": true,
    "pycharm": {
     "name": "#%%\n"
    }
   },
   "execution_count": 32,
   "outputs": [
    {
     "name": "stderr",
     "text": "/opt/conda/lib/python3.10/site-packages/transformers/optimization.py:411: FutureWarning: This implementation of AdamW is deprecated and will be removed in a future version. Use the PyTorch implementation torch.optim.AdamW instead, or set `no_deprecation_warning=True` to disable this warning\n  warnings.warn(\n",
     "output_type": "stream"
    }
   ]
  },
  {
   "cell_type": "code",
   "source": [
    "train_loss = []\n",
    "validation_loss = []\n",
    "accuracies = []\n",
    "print(\"Train started\")\n",
    "for i in range(EPOCHS):\n",
    "    print(\"\")\n",
    "    epoch_train_loss = 0\n",
    "    epoch_validation_loss = 0\n",
    "    epoch_validation_accuracy = 0\n",
    "\n",
    "    for j, batch in enumerate(train_dataloader):\n",
    "        inputs = batch[0]\n",
    "        masks = batch[1]\n",
    "        labels = batch[2]\n",
    "\n",
    "        optimizer.zero_grad()\n",
    "\n",
    "        outputs = model(inputs, attention_mask=masks, labels=labels)\n",
    "        loss = loss_fn(outputs.logits, labels)\n",
    "\n",
    "        loss.backward()\n",
    "        optimizer.step()\n",
    "#         scheduler.step()\n",
    "\n",
    "        epoch_train_loss += loss.item()\n",
    "        if (j + 1) % 10 == 0:\n",
    "            print(f'Epoch: {i}  Batch: {j}  Loss: {epoch_train_loss / (j + 1)}')\n",
    "\n",
    "    for batch in validation_dataloader:\n",
    "        inputs = batch[0]\n",
    "        masks = batch[1]\n",
    "        labels = batch[2]\n",
    "\n",
    "        with torch.no_grad():\n",
    "            outputs = model(inputs)\n",
    "            loss = loss_fn(outputs.logits, labels)\n",
    "\n",
    "            predictions = torch.argmax(outputs.logits, dim=1)\n",
    "            accuracy = accuracy_score(predictions.cpu().numpy(), labels.cpu().numpy())\n",
    "\n",
    "            epoch_validation_loss += loss.item()\n",
    "            epoch_validation_accuracy += accuracy\n",
    "\n",
    "    train_loss.append(epoch_train_loss / len(train_dataloader))\n",
    "    validation_loss.append(epoch_validation_loss / len(validation_dataloader))\n",
    "    accuracies.append(epoch_validation_accuracy / len(validation_dataloader))\n",
    "\n",
    "    print(f'======== Epoch {i} / {EPOCHS}  Train Loss: {train_loss[i]} ========')\n",
    "    print(f'                          Validation Loss: {validation_loss[i]} ========')\n",
    "    print(f'                           Validation Acc: {accuracies[i]} ========')"
   ],
   "metadata": {
    "execution": {
     "iopub.status.busy": "2023-10-13T09:21:46.227248Z",
     "iopub.execute_input": "2023-10-13T09:21:46.227674Z",
     "iopub.status.idle": "2023-10-13T09:25:05.777681Z",
     "shell.execute_reply.started": "2023-10-13T09:21:46.227645Z",
     "shell.execute_reply": "2023-10-13T09:25:05.776749Z"
    },
    "trusted": true,
    "pycharm": {
     "name": "#%%\n"
    }
   },
   "execution_count": 33,
   "outputs": [
    {
     "name": "stdout",
     "text": "Train started\n\nEpoch: 0  Batch: 9  Loss: 0.6257641106843949\nEpoch: 0  Batch: 19  Loss: 0.5669540807604789\nEpoch: 0  Batch: 29  Loss: 0.5432588775952657\nEpoch: 0  Batch: 39  Loss: 0.5209632255136967\nEpoch: 0  Batch: 49  Loss: 0.5047970628738403\nEpoch: 0  Batch: 59  Loss: 0.48686288148164747\nEpoch: 0  Batch: 69  Loss: 0.48647921425955637\nEpoch: 0  Batch: 79  Loss: 0.4783468201756477\nEpoch: 0  Batch: 89  Loss: 0.467784565852748\nEpoch: 0  Batch: 99  Loss: 0.46656363680958746\nEpoch: 0  Batch: 109  Loss: 0.46063820950009604\nEpoch: 0  Batch: 119  Loss: 0.4602827421079079\nEpoch: 0  Batch: 129  Loss: 0.45624940246343615\nEpoch: 0  Batch: 139  Loss: 0.45551603361964227\nEpoch: 0  Batch: 149  Loss: 0.4484411346912384\nEpoch: 0  Batch: 159  Loss: 0.4451563745737076\nEpoch: 0  Batch: 169  Loss: 0.44188721951316384\n======== Epoch 0 / 2  Train Loss: 0.4392763635965699 ========\n                          Validation Loss: 0.4305265049139659 ========\n                           Validation Acc: 0.8276041666666667 ========\n\nEpoch: 1  Batch: 9  Loss: 0.295528544485569\nEpoch: 1  Batch: 19  Loss: 0.2648907795548439\nEpoch: 1  Batch: 29  Loss: 0.26082235475381216\nEpoch: 1  Batch: 39  Loss: 0.2639993015676737\nEpoch: 1  Batch: 49  Loss: 0.2540637531876564\nEpoch: 1  Batch: 59  Loss: 0.2752952568233013\nEpoch: 1  Batch: 69  Loss: 0.27380165393863404\nEpoch: 1  Batch: 79  Loss: 0.2860415423288941\nEpoch: 1  Batch: 89  Loss: 0.28525766539904807\nEpoch: 1  Batch: 99  Loss: 0.28329166494309904\nEpoch: 1  Batch: 109  Loss: 0.285187665508552\nEpoch: 1  Batch: 119  Loss: 0.2867011118059357\nEpoch: 1  Batch: 129  Loss: 0.2872329543989438\nEpoch: 1  Batch: 139  Loss: 0.28755974711052007\nEpoch: 1  Batch: 149  Loss: 0.28857627923289936\nEpoch: 1  Batch: 159  Loss: 0.28836358529515566\nEpoch: 1  Batch: 169  Loss: 0.2909317112582571\n======== Epoch 1 / 2  Train Loss: 0.290664666233449 ========\n                          Validation Loss: 0.4868788026273251 ========\n                           Validation Acc: 0.7915972222222222 ========\n",
     "output_type": "stream"
    }
   ]
  },
  {
   "cell_type": "code",
   "source": [
    "plt.title('Loss')\n",
    "plt.xlabel('epoch')\n",
    "plt.ylabel('loss')\n",
    "\n",
    "epochs = torch.arange(1, EPOCHS + 1)\n",
    "plt.plot(epochs, train_loss, label='Train loss')\n",
    "plt.plot(epochs, validation_loss, label='Validation loss')\n",
    "plt.legend()\n",
    "plt.show()"
   ],
   "metadata": {
    "execution": {
     "iopub.status.busy": "2023-10-13T09:28:10.977733Z",
     "iopub.execute_input": "2023-10-13T09:28:10.978105Z",
     "iopub.status.idle": "2023-10-13T09:28:11.342848Z",
     "shell.execute_reply.started": "2023-10-13T09:28:10.978072Z",
     "shell.execute_reply": "2023-10-13T09:28:11.341891Z"
    },
    "trusted": true,
    "pycharm": {
     "name": "#%%\n"
    }
   },
   "execution_count": 34,
   "outputs": [
    {
     "output_type": "display_data",
     "data": {
      "text/plain": "<Figure size 640x480 with 1 Axes>",
      "image/png": "[encoded data removed]"
     },
     "metadata": {}
    }
   ]
  },
  {
   "cell_type": "code",
   "source": [
    "plt.clf()\n",
    "plt.title('Accuracy')\n",
    "plt.xlabel('epoch')\n",
    "plt.ylabel('loss')\n",
    "\n",
    "plt.plot(epochs, accuracies, label='Accuracy')\n",
    "plt.legend()\n",
    "plt.show()"
   ],
   "metadata": {
    "execution": {
     "iopub.status.busy": "2023-10-13T09:28:16.001910Z",
     "iopub.execute_input": "2023-10-13T09:28:16.002819Z",
     "iopub.status.idle": "2023-10-13T09:28:16.263537Z",
     "shell.execute_reply.started": "2023-10-13T09:28:16.002778Z",
     "shell.execute_reply": "2023-10-13T09:28:16.262678Z"
    },
    "trusted": true,
    "pycharm": {
     "name": "#%%\n"
    }
   },
   "execution_count": 35,
   "outputs": [
    {
     "output_type": "display_data",
     "data": {
      "text/plain": "<Figure size 640x480 with 1 Axes>",
      "image/png": "[encoded data removed]"
     },
     "metadata": {}
    }
   ]
  },
  {
   "cell_type": "code",
   "source": [
    "test_data = test_df['text_cleaned'].values\n",
    "input_ids, attention_masks = tokenize(tokenizer, test_data)\n",
    "input_ids = torch.cat(input_ids, dim=0).to(device)\n",
    "attention_masks = torch.cat(attention_masks, dim=0).to(device)"
   ],
   "metadata": {
    "execution": {
     "iopub.status.busy": "2023-10-13T09:47:23.361428Z",
     "iopub.execute_input": "2023-10-13T09:47:23.361753Z",
     "iopub.status.idle": "2023-10-13T09:47:24.981688Z",
     "shell.execute_reply.started": "2023-10-13T09:47:23.361728Z",
     "shell.execute_reply": "2023-10-13T09:47:24.980682Z"
    },
    "trusted": true,
    "pycharm": {
     "name": "#%%\n"
    }
   },
   "execution_count": 64,
   "outputs": []
  },
  {
   "cell_type": "code",
   "source": [
    "prediction_data = TensorDataset(input_ids, attention_masks)\n",
    "prediction_sampler = SequentialSampler(prediction_data)\n",
    "prediction_dataloader = DataLoader(prediction_data, sampler=prediction_sampler, batch_size=BATCH_SIZE)"
   ],
   "metadata": {
    "execution": {
     "iopub.status.busy": "2023-10-13T09:47:28.009713Z",
     "iopub.execute_input": "2023-10-13T09:47:28.010418Z",
     "iopub.status.idle": "2023-10-13T09:47:28.015469Z",
     "shell.execute_reply.started": "2023-10-13T09:47:28.010378Z",
     "shell.execute_reply": "2023-10-13T09:47:28.014633Z"
    },
    "trusted": true,
    "pycharm": {
     "name": "#%%\n"
    }
   },
   "execution_count": 65,
   "outputs": []
  },
  {
   "cell_type": "code",
   "source": [
    "model.eval()\n",
    "labels = []\n",
    "for batch in prediction_dataloader:\n",
    "    inputs = batch[0]\n",
    "    masks = batch[1]\n",
    "\n",
    "    with torch.no_grad():\n",
    "        outputs = model(inputs)\n",
    "\n",
    "        predictions = torch.argmax(outputs.logits, dim=1)\n",
    "        labels.append(predictions.cpu().numpy())"
   ],
   "metadata": {
    "execution": {
     "iopub.status.busy": "2023-10-13T09:47:29.899848Z",
     "iopub.execute_input": "2023-10-13T09:47:29.900612Z",
     "iopub.status.idle": "2023-10-13T09:47:50.013875Z",
     "shell.execute_reply.started": "2023-10-13T09:47:29.900577Z",
     "shell.execute_reply": "2023-10-13T09:47:50.012831Z"
    },
    "trusted": true,
    "pycharm": {
     "name": "#%%\n"
    }
   },
   "execution_count": 66,
   "outputs": []
  },
  {
   "cell_type": "code",
   "source": [
    "import numpy as np\n",
    "labels = np.concatenate(labels, axis=0)\n",
    "\n",
    "labels"
   ],
   "metadata": {
    "execution": {
     "iopub.status.busy": "2023-10-13T09:47:55.678025Z",
     "iopub.execute_input": "2023-10-13T09:47:55.679025Z",
     "iopub.status.idle": "2023-10-13T09:47:55.687210Z",
     "shell.execute_reply.started": "2023-10-13T09:47:55.678982Z",
     "shell.execute_reply": "2023-10-13T09:47:55.686013Z"
    },
    "trusted": true,
    "pycharm": {
     "name": "#%%\n"
    }
   },
   "execution_count": 67,
   "outputs": [
    {
     "execution_count": 67,
     "output_type": "execute_result",
     "data": {
      "text/plain": "array([1, 1, 1, ..., 1, 1, 1])"
     },
     "metadata": {}
    }
   ]
  },
  {
   "cell_type": "code",
   "source": [
    "len(test_data)"
   ],
   "metadata": {
    "execution": {
     "iopub.status.busy": "2023-10-13T09:47:57.899280Z",
     "iopub.execute_input": "2023-10-13T09:47:57.899600Z",
     "iopub.status.idle": "2023-10-13T09:47:57.905027Z",
     "shell.execute_reply.started": "2023-10-13T09:47:57.899573Z",
     "shell.execute_reply": "2023-10-13T09:47:57.904206Z"
    },
    "trusted": true,
    "pycharm": {
     "name": "#%%\n"
    }
   },
   "execution_count": 68,
   "outputs": [
    {
     "execution_count": 68,
     "output_type": "execute_result",
     "data": {
      "text/plain": "3263"
     },
     "metadata": {}
    }
   ]
  },
  {
   "cell_type": "code",
   "source": [
    "sample_submission = pd.read_csv(\"/kaggle/input/nlp-getting-started/sample_submission.csv\")\n",
    "sample_submission.head()\n",
    "# labels"
   ],
   "metadata": {
    "execution": {
     "iopub.status.busy": "2023-10-13T09:48:00.684345Z",
     "iopub.execute_input": "2023-10-13T09:48:00.684706Z",
     "iopub.status.idle": "2023-10-13T09:48:00.698316Z",
     "shell.execute_reply.started": "2023-10-13T09:48:00.684669Z",
     "shell.execute_reply": "2023-10-13T09:48:00.697111Z"
    },
    "trusted": true,
    "pycharm": {
     "name": "#%%\n"
    }
   },
   "execution_count": 69,
   "outputs": [
    {
     "execution_count": 69,
     "output_type": "execute_result",
     "data": {
      "text/plain": "   id  target\n0   0       0\n1   2       0\n2   3       0\n3   9       0\n4  11       0",
      "text/html": "<div>\n<style scoped>\n    .dataframe tbody tr th:only-of-type {\n        vertical-align: middle;\n    }\n\n    .dataframe tbody tr th {\n        vertical-align: top;\n    }\n\n    .dataframe thead th {\n        text-align: right;\n    }\n</style>\n<table border=\"1\" class=\"dataframe\">\n  <thead>\n    <tr style=\"text-align: right;\">\n      <th></th>\n      <th>id</th>\n      <th>target</th>\n    </tr>\n  </thead>\n  <tbody>\n    <tr>\n      <th>0</th>\n      <td>0</td>\n      <td>0</td>\n    </tr>\n    <tr>\n      <th>1</th>\n      <td>2</td>\n      <td>0</td>\n    </tr>\n    <tr>\n      <th>2</th>\n      <td>3</td>\n      <td>0</td>\n    </tr>\n    <tr>\n      <th>3</th>\n      <td>9</td>\n      <td>0</td>\n    </tr>\n    <tr>\n      <th>4</th>\n      <td>11</td>\n      <td>0</td>\n    </tr>\n  </tbody>\n</table>\n</div>"
     },
     "metadata": {}
    }
   ]
  },
  {
   "cell_type": "code",
   "source": [
    "sample_submission[\"target\"] = labels"
   ],
   "metadata": {
    "execution": {
     "iopub.status.busy": "2023-10-13T09:48:03.462395Z",
     "iopub.execute_input": "2023-10-13T09:48:03.462745Z",
     "iopub.status.idle": "2023-10-13T09:48:03.467588Z",
     "shell.execute_reply.started": "2023-10-13T09:48:03.462720Z",
     "shell.execute_reply": "2023-10-13T09:48:03.466544Z"
    },
    "trusted": true,
    "pycharm": {
     "name": "#%%\n"
    }
   },
   "execution_count": 70,
   "outputs": []
  },
  {
   "cell_type": "code",
   "source": [
    "sample_submission.to_csv(\"submission.csv\", index=False)"
   ],
   "metadata": {
    "execution": {
     "iopub.status.busy": "2023-10-13T09:48:51.860920Z",
     "iopub.execute_input": "2023-10-13T09:48:51.861254Z",
     "iopub.status.idle": "2023-10-13T09:48:51.877523Z",
     "shell.execute_reply.started": "2023-10-13T09:48:51.861227Z",
     "shell.execute_reply": "2023-10-13T09:48:51.876686Z"
    },
    "trusted": true,
    "pycharm": {
     "name": "#%%\n"
    }
   },
   "execution_count": 73,
   "outputs": []
  }
 ]
}